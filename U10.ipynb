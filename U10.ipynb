{
 "cells": [
  {
   "cell_type": "markdown",
   "metadata": {},
   "source": [
    "# project hackathon code\n",
    "\n",
    "## importing important libraries"
   ]
  },
  {
   "cell_type": "code",
   "execution_count": 3,
   "metadata": {},
   "outputs": [],
   "source": [
    "import numpy as np\n",
    "import pandas as pd\n",
    "import matplotlib.pyplot as plt\n",
    "import seaborn as sns\n",
    "from sklearn.model_selection import RandomizedSearchCV"
   ]
  },
  {
   "cell_type": "markdown",
   "metadata": {},
   "source": [
    "## Reading the data files"
   ]
  },
  {
   "cell_type": "code",
   "execution_count": 4,
   "metadata": {
    "scrolled": false
   },
   "outputs": [
    {
     "data": {
      "text/html": [
       "<div>\n",
       "<style scoped>\n",
       "    .dataframe tbody tr th:only-of-type {\n",
       "        vertical-align: middle;\n",
       "    }\n",
       "\n",
       "    .dataframe tbody tr th {\n",
       "        vertical-align: top;\n",
       "    }\n",
       "\n",
       "    .dataframe thead th {\n",
       "        text-align: right;\n",
       "    }\n",
       "</style>\n",
       "<table border=\"1\" class=\"dataframe\">\n",
       "  <thead>\n",
       "    <tr style=\"text-align: right;\">\n",
       "      <th></th>\n",
       "      <th>date</th>\n",
       "      <th>campaign</th>\n",
       "      <th>adgroup</th>\n",
       "      <th>ad</th>\n",
       "      <th>impressions</th>\n",
       "      <th>clicks</th>\n",
       "      <th>cost</th>\n",
       "      <th>conversions</th>\n",
       "      <th>revenue</th>\n",
       "    </tr>\n",
       "  </thead>\n",
       "  <tbody>\n",
       "    <tr>\n",
       "      <th>0</th>\n",
       "      <td>01-08-2020</td>\n",
       "      <td>campaign 1</td>\n",
       "      <td>adgroup 1</td>\n",
       "      <td>ad 1</td>\n",
       "      <td>24</td>\n",
       "      <td>6</td>\n",
       "      <td>0.08</td>\n",
       "      <td>0</td>\n",
       "      <td>0.00</td>\n",
       "    </tr>\n",
       "    <tr>\n",
       "      <th>1</th>\n",
       "      <td>01-08-2020</td>\n",
       "      <td>campaign 1</td>\n",
       "      <td>adgroup 2</td>\n",
       "      <td>ad 1</td>\n",
       "      <td>1</td>\n",
       "      <td>0</td>\n",
       "      <td>0.00</td>\n",
       "      <td>0</td>\n",
       "      <td>0.00</td>\n",
       "    </tr>\n",
       "    <tr>\n",
       "      <th>2</th>\n",
       "      <td>01-08-2020</td>\n",
       "      <td>campaign 1</td>\n",
       "      <td>adgroup 3</td>\n",
       "      <td>ad 1</td>\n",
       "      <td>13</td>\n",
       "      <td>4</td>\n",
       "      <td>0.04</td>\n",
       "      <td>0</td>\n",
       "      <td>0.00</td>\n",
       "    </tr>\n",
       "    <tr>\n",
       "      <th>3</th>\n",
       "      <td>01-08-2020</td>\n",
       "      <td>campaign 1</td>\n",
       "      <td>adgroup 4</td>\n",
       "      <td>ad 1</td>\n",
       "      <td>5</td>\n",
       "      <td>4</td>\n",
       "      <td>0.08</td>\n",
       "      <td>0</td>\n",
       "      <td>0.00</td>\n",
       "    </tr>\n",
       "    <tr>\n",
       "      <th>4</th>\n",
       "      <td>01-08-2020</td>\n",
       "      <td>campaign 1</td>\n",
       "      <td>adgroup 1</td>\n",
       "      <td>ad 2</td>\n",
       "      <td>247</td>\n",
       "      <td>126</td>\n",
       "      <td>1.29</td>\n",
       "      <td>4</td>\n",
       "      <td>925.71</td>\n",
       "    </tr>\n",
       "  </tbody>\n",
       "</table>\n",
       "</div>"
      ],
      "text/plain": [
       "         date    campaign    adgroup    ad  impressions  clicks  cost  \\\n",
       "0  01-08-2020  campaign 1  adgroup 1  ad 1           24       6  0.08   \n",
       "1  01-08-2020  campaign 1  adgroup 2  ad 1            1       0  0.00   \n",
       "2  01-08-2020  campaign 1  adgroup 3  ad 1           13       4  0.04   \n",
       "3  01-08-2020  campaign 1  adgroup 4  ad 1            5       4  0.08   \n",
       "4  01-08-2020  campaign 1  adgroup 1  ad 2          247     126  1.29   \n",
       "\n",
       "   conversions  revenue  \n",
       "0            0     0.00  \n",
       "1            0     0.00  \n",
       "2            0     0.00  \n",
       "3            0     0.00  \n",
       "4            4   925.71  "
      ]
     },
     "execution_count": 4,
     "metadata": {},
     "output_type": "execute_result"
    }
   ],
   "source": [
    "df = pd.read_csv('Train_Data.csv')\n",
    "df.head()"
   ]
  },
  {
   "cell_type": "code",
   "execution_count": 5,
   "metadata": {},
   "outputs": [
    {
     "data": {
      "text/plain": [
       "(4571, 9)"
      ]
     },
     "execution_count": 5,
     "metadata": {},
     "output_type": "execute_result"
    }
   ],
   "source": [
    "df.shape"
   ]
  },
  {
   "cell_type": "markdown",
   "metadata": {},
   "source": [
    "## Exploratory Data Analysis\n",
    "\n",
    "### Checking for null values"
   ]
  },
  {
   "cell_type": "code",
   "execution_count": 6,
   "metadata": {},
   "outputs": [
    {
     "data": {
      "text/plain": [
       "<AxesSubplot:>"
      ]
     },
     "execution_count": 6,
     "metadata": {},
     "output_type": "execute_result"
    },
    {
     "data": {
      "image/png": "[encoded data removed]",
      "text/plain": [
       "<Figure size 432x288 with 1 Axes>"
      ]
     },
     "metadata": {
      "needs_background": "light"
     },
     "output_type": "display_data"
    }
   ],
   "source": [
    "sns.heatmap(df.isnull(),yticklabels=False,cbar=False)\n"
   ]
  },
  {
   "cell_type": "code",
   "execution_count": 7,
   "metadata": {},
   "outputs": [
    {
     "data": {
      "text/plain": [
       "date           0\n",
       "campaign       0\n",
       "adgroup        0\n",
       "ad             0\n",
       "impressions    0\n",
       "clicks         0\n",
       "cost           0\n",
       "conversions    0\n",
       "revenue        0\n",
       "dtype: int64"
      ]
     },
     "execution_count": 7,
     "metadata": {},
     "output_type": "execute_result"
    }
   ],
   "source": [
    "df.isnull().sum()"
   ]
  },
  {
   "cell_type": "code",
   "execution_count": 8,
   "metadata": {},
   "outputs": [
    {
     "data": {
      "text/plain": [
       "<bound method DataFrame.info of             date    campaign    adgroup     ad  impressions  clicks  cost  \\\n",
       "0     01-08-2020  campaign 1  adgroup 1   ad 1           24       6  0.08   \n",
       "1     01-08-2020  campaign 1  adgroup 2   ad 1            1       0  0.00   \n",
       "2     01-08-2020  campaign 1  adgroup 3   ad 1           13       4  0.04   \n",
       "3     01-08-2020  campaign 1  adgroup 4   ad 1            5       4  0.08   \n",
       "4     01-08-2020  campaign 1  adgroup 1   ad 2          247     126  1.29   \n",
       "...          ...         ...        ...    ...          ...     ...   ...   \n",
       "4566  28-02-2021  campaign 1  adgroup 3  ad 55           19       6  0.07   \n",
       "4567  28-02-2021  campaign 1  adgroup 4  ad 55            1       0  0.00   \n",
       "4568  28-02-2021  campaign 1  adgroup 3  ad 56           16       8  0.12   \n",
       "4569  28-02-2021  campaign 1  adgroup 1  ad 56           37      13  0.23   \n",
       "4570  28-02-2021  campaign 1  adgroup 1  ad 55           19      10  0.14   \n",
       "\n",
       "      conversions  revenue  \n",
       "0               0     0.00  \n",
       "1               0     0.00  \n",
       "2               0     0.00  \n",
       "3               0     0.00  \n",
       "4               4   925.71  \n",
       "...           ...      ...  \n",
       "4566            0     0.00  \n",
       "4567            0     0.00  \n",
       "4568            1    93.20  \n",
       "4569            0     0.00  \n",
       "4570            0     0.00  \n",
       "\n",
       "[4571 rows x 9 columns]>"
      ]
     },
     "execution_count": 8,
     "metadata": {},
     "output_type": "execute_result"
    }
   ],
   "source": [
    "df.info"
   ]
  },
  {
   "cell_type": "code",
   "execution_count": 9,
   "metadata": {},
   "outputs": [
    {
     "data": {
      "text/plain": [
       "adgroup 3    1672\n",
       "adgroup 1    1314\n",
       "adgroup 4     858\n",
       "adgroup 2     727\n",
       "Name: adgroup, dtype: int64"
      ]
     },
     "execution_count": 9,
     "metadata": {},
     "output_type": "execute_result"
    }
   ],
   "source": [
    "df['adgroup'].value_counts()"
   ]
  },
  {
   "cell_type": "markdown",
   "metadata": {},
   "source": [
    "## Handling categorical features"
   ]
  },
  {
   "cell_type": "markdown",
   "metadata": {},
   "source": []
  },
  {
   "cell_type": "code",
   "execution_count": 10,
   "metadata": {},
   "outputs": [],
   "source": [
    "columns= ['date', 'campaign', 'adgroup', 'ad']"
   ]
  },
  {
   "cell_type": "code",
   "execution_count": 11,
   "metadata": {},
   "outputs": [
    {
     "data": {
      "text/plain": [
       "4"
      ]
     },
     "execution_count": 11,
     "metadata": {},
     "output_type": "execute_result"
    }
   ],
   "source": [
    "len(columns)"
   ]
  },
  {
   "cell_type": "code",
   "execution_count": 12,
   "metadata": {},
   "outputs": [],
   "source": [
    "#funtion for one hot encoding\n",
    "\n",
    "def category_onehot_multcols(multcolumns):\n",
    "    df_final=final_df\n",
    "    i=0\n",
    "    for fields in multcolumns:\n",
    "        \n",
    "        print(fields)\n",
    "        df1=pd.get_dummies(final_df[fields],drop_first=True)\n",
    "        \n",
    "        final_df.drop([fields],axis=1,inplace=True)\n",
    "        if i==0:\n",
    "            df_final=df1.copy()\n",
    "        else:\n",
    "            \n",
    "            df_final=pd.concat([df_final,df1],axis=1)\n",
    "        i=i+1\n",
    "       \n",
    "        \n",
    "    df_final=pd.concat([final_df,df_final],axis=1)\n",
    "        \n",
    "    return df_final"
   ]
  },
  {
   "cell_type": "code",
   "execution_count": 13,
   "metadata": {},
   "outputs": [],
   "source": [
    "main_df = df.copy()"
   ]
  },
  {
   "cell_type": "code",
   "execution_count": 14,
   "metadata": {},
   "outputs": [],
   "source": [
    "# reading test data\n",
    "test_df = pd.read_csv('Test_Data.csv')"
   ]
  },
  {
   "cell_type": "code",
   "execution_count": 15,
   "metadata": {},
   "outputs": [
    {
     "data": {
      "text/html": [
       "<div>\n",
       "<style scoped>\n",
       "    .dataframe tbody tr th:only-of-type {\n",
       "        vertical-align: middle;\n",
       "    }\n",
       "\n",
       "    .dataframe tbody tr th {\n",
       "        vertical-align: top;\n",
       "    }\n",
       "\n",
       "    .dataframe thead th {\n",
       "        text-align: right;\n",
       "    }\n",
       "</style>\n",
       "<table border=\"1\" class=\"dataframe\">\n",
       "  <thead>\n",
       "    <tr style=\"text-align: right;\">\n",
       "      <th></th>\n",
       "      <th>date</th>\n",
       "      <th>campaign</th>\n",
       "      <th>adgroup</th>\n",
       "      <th>ad</th>\n",
       "      <th>cost</th>\n",
       "      <th>impressions</th>\n",
       "      <th>clicks</th>\n",
       "      <th>conversions</th>\n",
       "    </tr>\n",
       "  </thead>\n",
       "  <tbody>\n",
       "    <tr>\n",
       "      <th>0</th>\n",
       "      <td>01-03-2021</td>\n",
       "      <td>campaign 1</td>\n",
       "      <td>adgroup 1</td>\n",
       "      <td>ad 1</td>\n",
       "      <td>0.58</td>\n",
       "      <td>121</td>\n",
       "      <td>49</td>\n",
       "      <td>1</td>\n",
       "    </tr>\n",
       "    <tr>\n",
       "      <th>1</th>\n",
       "      <td>01-03-2021</td>\n",
       "      <td>campaign 1</td>\n",
       "      <td>adgroup 3</td>\n",
       "      <td>ad 1</td>\n",
       "      <td>0.17</td>\n",
       "      <td>22</td>\n",
       "      <td>12</td>\n",
       "      <td>0</td>\n",
       "    </tr>\n",
       "    <tr>\n",
       "      <th>2</th>\n",
       "      <td>01-03-2021</td>\n",
       "      <td>campaign 1</td>\n",
       "      <td>adgroup 4</td>\n",
       "      <td>ad 1</td>\n",
       "      <td>0.05</td>\n",
       "      <td>5</td>\n",
       "      <td>3</td>\n",
       "      <td>0</td>\n",
       "    </tr>\n",
       "    <tr>\n",
       "      <th>3</th>\n",
       "      <td>01-03-2021</td>\n",
       "      <td>campaign 1</td>\n",
       "      <td>adgroup 2</td>\n",
       "      <td>ad 1</td>\n",
       "      <td>0.01</td>\n",
       "      <td>2</td>\n",
       "      <td>1</td>\n",
       "      <td>0</td>\n",
       "    </tr>\n",
       "    <tr>\n",
       "      <th>4</th>\n",
       "      <td>01-03-2021</td>\n",
       "      <td>campaign 1</td>\n",
       "      <td>adgroup 2</td>\n",
       "      <td>ad 2</td>\n",
       "      <td>0.01</td>\n",
       "      <td>3</td>\n",
       "      <td>1</td>\n",
       "      <td>0</td>\n",
       "    </tr>\n",
       "  </tbody>\n",
       "</table>\n",
       "</div>"
      ],
      "text/plain": [
       "         date    campaign    adgroup    ad  cost  impressions  clicks  \\\n",
       "0  01-03-2021  campaign 1  adgroup 1  ad 1  0.58          121      49   \n",
       "1  01-03-2021  campaign 1  adgroup 3  ad 1  0.17           22      12   \n",
       "2  01-03-2021  campaign 1  adgroup 4  ad 1  0.05            5       3   \n",
       "3  01-03-2021  campaign 1  adgroup 2  ad 1  0.01            2       1   \n",
       "4  01-03-2021  campaign 1  adgroup 2  ad 2  0.01            3       1   \n",
       "\n",
       "   conversions  \n",
       "0            1  \n",
       "1            0  \n",
       "2            0  \n",
       "3            0  \n",
       "4            0  "
      ]
     },
     "execution_count": 15,
     "metadata": {},
     "output_type": "execute_result"
    }
   ],
   "source": [
    "test_df.head()"
   ]
  },
  {
   "cell_type": "markdown",
   "metadata": {},
   "source": [
    "# Concatenating the train and test data for one hot encoding"
   ]
  },
  {
   "cell_type": "code",
   "execution_count": 16,
   "metadata": {},
   "outputs": [],
   "source": [
    "\n",
    "final_df = pd.concat([df,test_df],axis=0)"
   ]
  },
  {
   "cell_type": "code",
   "execution_count": 17,
   "metadata": {},
   "outputs": [
    {
     "data": {
      "text/plain": [
       "(4889, 9)"
      ]
     },
     "execution_count": 17,
     "metadata": {},
     "output_type": "execute_result"
    }
   ],
   "source": [
    "final_df.shape"
   ]
  },
  {
   "cell_type": "code",
   "execution_count": 18,
   "metadata": {},
   "outputs": [
    {
     "name": "stdout",
     "output_type": "stream",
     "text": [
      "date\n",
      "campaign\n",
      "adgroup\n",
      "ad\n"
     ]
    }
   ],
   "source": [
    "final_df = category_onehot_multcols(columns)"
   ]
  },
  {
   "cell_type": "code",
   "execution_count": 19,
   "metadata": {},
   "outputs": [
    {
     "data": {
      "text/plain": [
       "(4889, 308)"
      ]
     },
     "execution_count": 19,
     "metadata": {},
     "output_type": "execute_result"
    }
   ],
   "source": [
    "final_df.shape"
   ]
  },
  {
   "cell_type": "code",
   "execution_count": 20,
   "metadata": {},
   "outputs": [],
   "source": [
    "final_df = final_df.loc[:,~final_df.columns.duplicated()]"
   ]
  },
  {
   "cell_type": "code",
   "execution_count": 21,
   "metadata": {},
   "outputs": [
    {
     "data": {
      "text/plain": [
       "(4889, 308)"
      ]
     },
     "execution_count": 21,
     "metadata": {},
     "output_type": "execute_result"
    }
   ],
   "source": [
    "final_df.shape"
   ]
  },
  {
   "cell_type": "code",
   "execution_count": 22,
   "metadata": {},
   "outputs": [
    {
     "data": {
      "text/html": [
       "<div>\n",
       "<style scoped>\n",
       "    .dataframe tbody tr th:only-of-type {\n",
       "        vertical-align: middle;\n",
       "    }\n",
       "\n",
       "    .dataframe tbody tr th {\n",
       "        vertical-align: top;\n",
       "    }\n",
       "\n",
       "    .dataframe thead th {\n",
       "        text-align: right;\n",
       "    }\n",
       "</style>\n",
       "<table border=\"1\" class=\"dataframe\">\n",
       "  <thead>\n",
       "    <tr style=\"text-align: right;\">\n",
       "      <th></th>\n",
       "      <th>impressions</th>\n",
       "      <th>clicks</th>\n",
       "      <th>cost</th>\n",
       "      <th>conversions</th>\n",
       "      <th>revenue</th>\n",
       "      <th>01-02-2021</th>\n",
       "      <th>01-03-2021</th>\n",
       "      <th>01-08-2020</th>\n",
       "      <th>01-09-2020</th>\n",
       "      <th>01-10-2020</th>\n",
       "      <th>...</th>\n",
       "      <th>ad 69</th>\n",
       "      <th>ad 7</th>\n",
       "      <th>ad 70</th>\n",
       "      <th>ad 71</th>\n",
       "      <th>ad 72</th>\n",
       "      <th>ad 73</th>\n",
       "      <th>ad 74</th>\n",
       "      <th>ad 75</th>\n",
       "      <th>ad 8</th>\n",
       "      <th>ad 9</th>\n",
       "    </tr>\n",
       "  </thead>\n",
       "  <tbody>\n",
       "    <tr>\n",
       "      <th>0</th>\n",
       "      <td>24</td>\n",
       "      <td>6</td>\n",
       "      <td>0.08</td>\n",
       "      <td>0</td>\n",
       "      <td>0.00</td>\n",
       "      <td>0</td>\n",
       "      <td>0</td>\n",
       "      <td>1</td>\n",
       "      <td>0</td>\n",
       "      <td>0</td>\n",
       "      <td>...</td>\n",
       "      <td>0</td>\n",
       "      <td>0</td>\n",
       "      <td>0</td>\n",
       "      <td>0</td>\n",
       "      <td>0</td>\n",
       "      <td>0</td>\n",
       "      <td>0</td>\n",
       "      <td>0</td>\n",
       "      <td>0</td>\n",
       "      <td>0</td>\n",
       "    </tr>\n",
       "    <tr>\n",
       "      <th>1</th>\n",
       "      <td>1</td>\n",
       "      <td>0</td>\n",
       "      <td>0.00</td>\n",
       "      <td>0</td>\n",
       "      <td>0.00</td>\n",
       "      <td>0</td>\n",
       "      <td>0</td>\n",
       "      <td>1</td>\n",
       "      <td>0</td>\n",
       "      <td>0</td>\n",
       "      <td>...</td>\n",
       "      <td>0</td>\n",
       "      <td>0</td>\n",
       "      <td>0</td>\n",
       "      <td>0</td>\n",
       "      <td>0</td>\n",
       "      <td>0</td>\n",
       "      <td>0</td>\n",
       "      <td>0</td>\n",
       "      <td>0</td>\n",
       "      <td>0</td>\n",
       "    </tr>\n",
       "    <tr>\n",
       "      <th>2</th>\n",
       "      <td>13</td>\n",
       "      <td>4</td>\n",
       "      <td>0.04</td>\n",
       "      <td>0</td>\n",
       "      <td>0.00</td>\n",
       "      <td>0</td>\n",
       "      <td>0</td>\n",
       "      <td>1</td>\n",
       "      <td>0</td>\n",
       "      <td>0</td>\n",
       "      <td>...</td>\n",
       "      <td>0</td>\n",
       "      <td>0</td>\n",
       "      <td>0</td>\n",
       "      <td>0</td>\n",
       "      <td>0</td>\n",
       "      <td>0</td>\n",
       "      <td>0</td>\n",
       "      <td>0</td>\n",
       "      <td>0</td>\n",
       "      <td>0</td>\n",
       "    </tr>\n",
       "    <tr>\n",
       "      <th>3</th>\n",
       "      <td>5</td>\n",
       "      <td>4</td>\n",
       "      <td>0.08</td>\n",
       "      <td>0</td>\n",
       "      <td>0.00</td>\n",
       "      <td>0</td>\n",
       "      <td>0</td>\n",
       "      <td>1</td>\n",
       "      <td>0</td>\n",
       "      <td>0</td>\n",
       "      <td>...</td>\n",
       "      <td>0</td>\n",
       "      <td>0</td>\n",
       "      <td>0</td>\n",
       "      <td>0</td>\n",
       "      <td>0</td>\n",
       "      <td>0</td>\n",
       "      <td>0</td>\n",
       "      <td>0</td>\n",
       "      <td>0</td>\n",
       "      <td>0</td>\n",
       "    </tr>\n",
       "    <tr>\n",
       "      <th>4</th>\n",
       "      <td>247</td>\n",
       "      <td>126</td>\n",
       "      <td>1.29</td>\n",
       "      <td>4</td>\n",
       "      <td>925.71</td>\n",
       "      <td>0</td>\n",
       "      <td>0</td>\n",
       "      <td>1</td>\n",
       "      <td>0</td>\n",
       "      <td>0</td>\n",
       "      <td>...</td>\n",
       "      <td>0</td>\n",
       "      <td>0</td>\n",
       "      <td>0</td>\n",
       "      <td>0</td>\n",
       "      <td>0</td>\n",
       "      <td>0</td>\n",
       "      <td>0</td>\n",
       "      <td>0</td>\n",
       "      <td>0</td>\n",
       "      <td>0</td>\n",
       "    </tr>\n",
       "  </tbody>\n",
       "</table>\n",
       "<p>5 rows × 308 columns</p>\n",
       "</div>"
      ],
      "text/plain": [
       "   impressions  clicks  cost  conversions  revenue  01-02-2021  01-03-2021  \\\n",
       "0           24       6  0.08            0     0.00           0           0   \n",
       "1            1       0  0.00            0     0.00           0           0   \n",
       "2           13       4  0.04            0     0.00           0           0   \n",
       "3            5       4  0.08            0     0.00           0           0   \n",
       "4          247     126  1.29            4   925.71           0           0   \n",
       "\n",
       "   01-08-2020  01-09-2020  01-10-2020  ...  ad 69  ad 7  ad 70  ad 71  ad 72  \\\n",
       "0           1           0           0  ...      0     0      0      0      0   \n",
       "1           1           0           0  ...      0     0      0      0      0   \n",
       "2           1           0           0  ...      0     0      0      0      0   \n",
       "3           1           0           0  ...      0     0      0      0      0   \n",
       "4           1           0           0  ...      0     0      0      0      0   \n",
       "\n",
       "   ad 73  ad 74  ad 75  ad 8  ad 9  \n",
       "0      0      0      0     0     0  \n",
       "1      0      0      0     0     0  \n",
       "2      0      0      0     0     0  \n",
       "3      0      0      0     0     0  \n",
       "4      0      0      0     0     0  \n",
       "\n",
       "[5 rows x 308 columns]"
      ]
     },
     "execution_count": 22,
     "metadata": {},
     "output_type": "execute_result"
    }
   ],
   "source": [
    "final_df.head()"
   ]
  },
  {
   "cell_type": "markdown",
   "metadata": {},
   "source": [
    "## Extracting back the train and test data"
   ]
  },
  {
   "cell_type": "code",
   "execution_count": 23,
   "metadata": {},
   "outputs": [],
   "source": [
    "df_train = final_df.iloc[:4571,:]\n",
    "df_test = final_df.iloc[4571:,:]"
   ]
  },
  {
   "cell_type": "code",
   "execution_count": 24,
   "metadata": {},
   "outputs": [
    {
     "name": "stderr",
     "output_type": "stream",
     "text": [
      "C:\\Users\\Intel\\anaconda3\\lib\\site-packages\\pandas\\core\\frame.py:4163: SettingWithCopyWarning: \n",
      "A value is trying to be set on a copy of a slice from a DataFrame\n",
      "\n",
      "See the caveats in the documentation: https://pandas.pydata.org/pandas-docs/stable/user_guide/indexing.html#returning-a-view-versus-a-copy\n",
      "  return super().drop(\n"
     ]
    }
   ],
   "source": [
    "df_test.drop(['revenue'],axis=1,inplace = True)"
   ]
  },
  {
   "cell_type": "code",
   "execution_count": 25,
   "metadata": {},
   "outputs": [
    {
     "data": {
      "text/plain": [
       "(318, 307)"
      ]
     },
     "execution_count": 25,
     "metadata": {},
     "output_type": "execute_result"
    }
   ],
   "source": [
    "df_test.shape"
   ]
  },
  {
   "cell_type": "code",
   "execution_count": 26,
   "metadata": {},
   "outputs": [],
   "source": [
    "X_train = df_train.drop(['revenue'],axis=1)\n",
    "y_train = df_train['revenue']"
   ]
  },
  {
   "cell_type": "markdown",
   "metadata": {},
   "source": [
    "## Deploying XGBoost Regression ML Model"
   ]
  },
  {
   "cell_type": "code",
   "execution_count": 27,
   "metadata": {},
   "outputs": [
    {
     "data": {
      "text/plain": [
       "XGBRegressor(base_score=0.5, booster='gbtree', colsample_bylevel=1,\n",
       "             colsample_bynode=1, colsample_bytree=1, gamma=0, gpu_id=-1,\n",
       "             importance_type='gain', interaction_constraints='',\n",
       "             learning_rate=0.300000012, max_delta_step=0, max_depth=6,\n",
       "             min_child_weight=1, missing=nan, monotone_constraints='()',\n",
       "             n_estimators=100, n_jobs=4, num_parallel_tree=1, random_state=0,\n",
       "             reg_alpha=0, reg_lambda=1, scale_pos_weight=1, subsample=1,\n",
       "             tree_method='exact', validate_parameters=1, verbosity=None)"
      ]
     },
     "execution_count": 27,
     "metadata": {},
     "output_type": "execute_result"
    }
   ],
   "source": [
    "import xgboost\n",
    "regressor = xgboost.XGBRegressor()\n",
    "regressor.fit(X_train, y_train)"
   ]
  },
  {
   "cell_type": "code",
   "execution_count": 28,
   "metadata": {},
   "outputs": [],
   "source": [
    "y_pred = regressor.predict(df_test)"
   ]
  },
  {
   "cell_type": "code",
   "execution_count": 29,
   "metadata": {},
   "outputs": [
    {
     "data": {
      "text/plain": [
       "(318,)"
      ]
     },
     "execution_count": 29,
     "metadata": {},
     "output_type": "execute_result"
    }
   ],
   "source": [
    "y_pred.shape"
   ]
  },
  {
   "cell_type": "markdown",
   "metadata": {},
   "source": [
    "## Hyperparameter tuning for XGB regressor"
   ]
  },
  {
   "cell_type": "code",
   "execution_count": 30,
   "metadata": {},
   "outputs": [],
   "source": [
    "booster = ['gbtree','gblinear']\n",
    "base_score = [0.25,0.5,0.75,1]"
   ]
  },
  {
   "cell_type": "code",
   "execution_count": 31,
   "metadata": {},
   "outputs": [],
   "source": [
    "# pred = pd.DataFrame(y_pred)\n",
    "# pred.columns = ['revenue']\n",
    "# pred.to_csv('Sample_submission.csv',index=False)"
   ]
  },
  {
   "cell_type": "code",
   "execution_count": 32,
   "metadata": {},
   "outputs": [],
   "source": [
    "n_estimators = [100, 500, 900, 1100, 1500]\n",
    "max_depth = [2, 3, 5, 10, 15]\n",
    "booster = ['gbtree', 'gblinear']\n",
    "learning_rate = [0.05,0.1,0.15,0.20]\n",
    "min_child_weight = [1,2,3,4]\n",
    "\n",
    "hyperparameter_grid = {\n",
    "    'n_estimators':n_estimators,\n",
    "    'max_depth':max_depth,\n",
    "    'learning_rate':learning_rate,\n",
    "    'min_child_weight':min_child_weight,\n",
    "    'booster':booster,\n",
    "    'base_score':base_score\n",
    "    }"
   ]
  },
  {
   "cell_type": "code",
   "execution_count": 33,
   "metadata": {
    "scrolled": true
   },
   "outputs": [],
   "source": [
    "\n",
    "random_cv = RandomizedSearchCV(estimator=regressor,\n",
    "             param_distributions=hyperparameter_grid,\n",
    "                              cv=5, n_iter=50,\n",
    "                              scoring = 'neg_mean_absolute_error',n_jobs = 4,\n",
    "                              verbose =5,\n",
    "                              return_train_score = True,\n",
    "                              random_state = 42)"
   ]
  },
  {
   "cell_type": "code",
   "execution_count": 34,
   "metadata": {
    "scrolled": true
   },
   "outputs": [],
   "source": [
    "random_cv.fit(X_train,y_train)"
   ]
  },
  {
   "cell_type": "code",
   "execution_count": 35,
   "metadata": {},
   "outputs": [],
   "source": [
    "random_cv.best_params_"
   ]
  },
  {
   "cell_type": "code",
   "execution_count": 36,
   "metadata": {},
   "outputs": [],
   "source": [
    "random_cv.best_estimator_"
   ]
  },
  {
   "cell_type": "code",
   "execution_count": 37,
   "metadata": {},
   "outputs": [],
   "source": [
    "regressor = xgboost.XGBRegressor(base_score=1, booster='gbtree', colsample_bylevel=1,\n",
    "             colsample_bynode=1, colsample_bytree=1, gamma=0, gpu_id=-1,\n",
    "             importance_type='gain', interaction_constraints='',\n",
    "             learning_rate=0.15, max_delta_step=0, max_depth=5,\n",
    "             min_child_weight=2, monotone_constraints='()',\n",
    "             n_estimators=100, n_jobs=4, num_parallel_tree=1, random_state=0,\n",
    "             reg_alpha=0, reg_lambda=1, scale_pos_weight=1, subsample=1,\n",
    "             tree_method='exact', validate_parameters=1, verbosity=None)"
   ]
  },
  {
   "cell_type": "code",
   "execution_count": 38,
   "metadata": {},
   "outputs": [
    {
     "data": {
      "text/plain": [
       "XGBRegressor(base_score=1, booster='gbtree', colsample_bylevel=1,\n",
       "             colsample_bynode=1, colsample_bytree=1, gamma=0, gpu_id=-1,\n",
       "             importance_type='gain', interaction_constraints='',\n",
       "             learning_rate=0.15, max_delta_step=0, max_depth=5,\n",
       "             min_child_weight=2, missing=nan, monotone_constraints='()',\n",
       "             n_estimators=100, n_jobs=4, num_parallel_tree=1, random_state=0,\n",
       "             reg_alpha=0, reg_lambda=1, scale_pos_weight=1, subsample=1,\n",
       "             tree_method='exact', validate_parameters=1, verbosity=None)"
      ]
     },
     "execution_count": 38,
     "metadata": {},
     "output_type": "execute_result"
    }
   ],
   "source": [
    "#fitting with the hyperparameter tuned model\n",
    "regressor.fit(X_train,y_train)"
   ]
  },
  {
   "cell_type": "code",
   "execution_count": 39,
   "metadata": {},
   "outputs": [],
   "source": [
    "ypred = regressor.predict(df_test)"
   ]
  },
  {
   "cell_type": "code",
   "execution_count": 40,
   "metadata": {},
   "outputs": [
    {
     "data": {
      "text/plain": [
       "array([ 1.4229659e+02, -6.0819852e-01, -6.0819852e-01, -6.0819852e-01,\n",
       "       -6.0819852e-01, -6.0819852e-01,  1.5717654e+02, -6.0819852e-01,\n",
       "        1.3902538e+02, -6.0819852e-01,  3.3466742e+02, -6.0819852e-01,\n",
       "       -6.0819852e-01,  3.1927866e+02, -6.0819852e-01,  1.4229659e+02,\n",
       "        1.2084910e+00,  1.3036996e+02,  1.2084910e+00,  1.4229659e+02,\n",
       "       -6.0819852e-01,  1.2084910e+00, -6.0819852e-01,  4.2390408e+02,\n",
       "       -6.0819852e-01, -6.0819852e-01,  5.5228448e+02,  1.4056711e+02,\n",
       "       -6.0819852e-01, -6.0819852e-01,  4.1823846e+02, -6.0819852e-01,\n",
       "        7.6705035e+02,  3.1489331e+02,  1.4047989e+02, -6.0819852e-01,\n",
       "        1.2684407e+02,  1.2084910e+00, -6.0819852e-01, -6.0819852e-01,\n",
       "       -6.0819852e-01,  1.2084910e+00, -6.0819852e-01,  1.2084910e+00,\n",
       "        1.2084910e+00, -6.0819852e-01, -6.0819852e-01, -6.0819852e-01,\n",
       "       -2.8652406e+00, -6.0819852e-01, -6.0819852e-01, -6.0819852e-01,\n",
       "       -2.5166645e+00,  3.1489331e+02,  1.4582246e+02,  1.4047989e+02,\n",
       "       -6.0819852e-01, -6.0819852e-01, -6.0819852e-01,  9.1321283e+02,\n",
       "       -6.0819852e-01,  3.1489331e+02, -6.0819852e-01,  3.2055893e+02,\n",
       "       -6.0819852e-01,  1.2084910e+00,  4.1213007e+02,  1.4329909e+02,\n",
       "       -6.0819852e-01, -6.0819852e-01,  2.3132245e+02, -6.0819852e-01,\n",
       "       -6.0819852e-01, -6.0819852e-01,  1.4229659e+02,  1.4229659e+02,\n",
       "        4.9991461e+02, -6.0819852e-01,  1.2084910e+00, -6.0819852e-01,\n",
       "        4.1298306e+02,  1.4047989e+02,  1.2084910e+00,  1.4229659e+02,\n",
       "       -6.0819852e-01, -6.0819852e-01,  5.6255975e+02,  1.3397356e+03,\n",
       "       -6.0819852e-01,  3.1489331e+02,  3.1489331e+02,  3.1135287e+02,\n",
       "        1.2084910e+00,  6.3311072e+02,  1.4229659e+02, -6.0819852e-01,\n",
       "       -6.0819852e-01, -6.0819852e-01,  1.2084910e+00, -6.0819852e-01,\n",
       "        1.4229659e+02, -6.0819852e-01, -6.0819852e-01,  1.6356305e+02,\n",
       "       -6.0819852e-01,  1.9641406e+03, -6.0819852e-01,  3.1489331e+02,\n",
       "       -6.0819852e-01,  1.4229659e+02, -6.0819852e-01,  6.3311072e+02,\n",
       "       -6.0819852e-01,  3.1489331e+02, -6.0819852e-01,  1.8870492e+03,\n",
       "       -6.0819852e-01,  2.4522122e+03,  4.1823846e+02,  1.4229659e+02,\n",
       "       -6.0819852e-01, -6.0819852e-01,  4.1823846e+02, -6.0819852e-01,\n",
       "       -6.0819852e-01, -6.0819852e-01,  4.2390408e+02, -6.0819852e-01,\n",
       "        1.5717654e+02,  1.3704123e+02, -6.0819852e-01, -6.0819852e-01,\n",
       "       -6.0819852e-01, -6.0819852e-01,  6.6484863e+02, -6.0819852e-01,\n",
       "        1.2084910e+00, -6.0819852e-01,  4.0278595e+02, -6.0819852e-01,\n",
       "        1.4229659e+02, -6.0819852e-01, -6.0819852e-01, -6.0819852e-01,\n",
       "        1.4229659e+02, -6.0819852e-01, -6.0819852e-01,  3.1489331e+02,\n",
       "        4.1823846e+02, -6.0819852e-01, -6.0819852e-01, -6.0819852e-01,\n",
       "        5.7923059e+02, -6.0819852e-01,  3.0963791e+02, -6.0819852e-01,\n",
       "        6.9036682e+02, -6.0819852e-01, -6.0819852e-01, -6.0819852e-01,\n",
       "        1.4003955e+02, -6.0819852e-01,  1.2084910e+00,  1.2084910e+00,\n",
       "        2.9944080e+02, -6.0819852e-01,  3.1489331e+02,  1.2084910e+00,\n",
       "       -6.0819852e-01,  1.2084910e+00, -6.0819852e-01, -6.0819852e-01,\n",
       "        1.2084910e+00,  1.4229659e+02, -6.0819852e-01, -6.0819852e-01,\n",
       "       -6.0819852e-01, -6.0819852e-01,  3.1489331e+02,  1.4047989e+02,\n",
       "       -6.0819852e-01,  2.6250544e+00, -6.0819852e-01,  1.5388145e+02,\n",
       "        1.2084910e+00, -6.0819852e-01,  1.4003955e+02,  1.2084910e+00,\n",
       "        1.4229659e+02, -6.0819852e-01, -2.5166645e+00,  1.4229659e+02,\n",
       "        1.2084910e+00, -6.0819852e-01,  1.2084910e+00, -6.0819852e-01,\n",
       "       -6.0819852e-01, -6.0819852e-01, -6.0819852e-01,  1.4229659e+02,\n",
       "        1.4047989e+02, -6.0819852e-01,  2.8441479e+02, -6.0819852e-01,\n",
       "       -6.0819852e-01,  9.2674751e+00,  1.3495189e+02,  1.2084910e+00,\n",
       "        1.2084910e+00,  4.1598141e+02, -6.0819852e-01,  1.2084910e+00,\n",
       "        1.2084910e+00,  1.3857143e+02,  3.1489331e+02, -6.0819852e-01,\n",
       "        1.2084910e+00, -6.0819852e-01, -6.0819852e-01,  3.1489331e+02,\n",
       "       -6.0819852e-01, -6.0819852e-01,  1.2084910e+00, -6.0819852e-01,\n",
       "       -6.0819852e-01,  7.4462286e+02, -6.0819852e-01, -6.0819852e-01,\n",
       "        1.5388145e+02, -6.0819852e-01,  3.2295224e+02,  1.2084910e+00,\n",
       "       -6.0819852e-01, -1.0485511e+00, -6.0819852e-01, -6.0819852e-01,\n",
       "       -6.0819852e-01,  1.2684407e+02,  1.2084910e+00,  1.2084910e+00,\n",
       "       -6.0819852e-01, -6.0819852e-01,  1.2084910e+00, -6.0819852e-01,\n",
       "       -6.0819852e-01,  1.4047989e+02, -6.0819852e-01,  1.2084910e+00,\n",
       "       -6.0819852e-01, -6.0819852e-01,  4.1823846e+02,  2.8075711e+02,\n",
       "       -6.0819852e-01,  3.7686255e+02, -6.0819852e-01,  1.4229659e+02,\n",
       "        1.2084910e+00, -1.0485511e+00,  1.4047989e+02,  1.4229659e+02,\n",
       "       -6.0819852e-01,  2.9944080e+02,  1.2084910e+00,  1.2084910e+00,\n",
       "       -6.0819852e-01, -6.0819852e-01,  1.2084910e+00, -6.0819852e-01,\n",
       "       -6.0819852e-01, -6.0819852e-01,  3.1489331e+02, -6.0819852e-01,\n",
       "       -6.0819852e-01,  6.3311072e+02, -6.0819852e-01, -6.0819852e-01,\n",
       "       -6.0819852e-01,  2.7351740e+02,  1.2512121e+02, -6.0819852e-01,\n",
       "       -6.0819852e-01, -6.0819852e-01, -1.0485511e+00, -6.0819852e-01,\n",
       "        3.1135287e+02,  1.2084910e+00,  1.3857143e+02,  1.2084910e+00,\n",
       "       -6.0819852e-01, -6.0819852e-01, -6.0819852e-01,  1.4229659e+02,\n",
       "        1.2084910e+00, -6.0819852e-01,  1.4229659e+02, -6.0819852e-01,\n",
       "       -6.0819852e-01,  1.4893901e+02, -6.0819852e-01, -6.0819852e-01,\n",
       "       -6.0819852e-01, -6.0819852e-01,  4.7482187e+02,  9.2674751e+00,\n",
       "        1.2084910e+00, -6.0819852e-01,  7.6040790e+02, -6.0819852e-01,\n",
       "       -6.0819852e-01,  3.1489331e+02,  1.3857143e+02,  1.4229659e+02,\n",
       "       -6.0819852e-01, -6.0819852e-01, -6.0819852e-01,  1.2084910e+00,\n",
       "       -6.0819852e-01,  1.4229659e+02], dtype=float32)"
      ]
     },
     "execution_count": 40,
     "metadata": {},
     "output_type": "execute_result"
    }
   ],
   "source": [
    "#predicted value with the model\n",
    "ypred"
   ]
  },
  {
   "cell_type": "code",
   "execution_count": 41,
   "metadata": {},
   "outputs": [],
   "source": [
    "samp = pd.read_csv('Sample_Submission.csv')"
   ]
  },
  {
   "cell_type": "markdown",
   "metadata": {},
   "source": [
    "## saving the predicted value in the stated sample format"
   ]
  },
  {
   "cell_type": "code",
   "execution_count": 42,
   "metadata": {},
   "outputs": [],
   "source": [
    "pred = pd.DataFrame(ypred)\n",
    "pred.columns = ['revenue']\n",
    "pred.to_csv('Sample_Submission_xgbhypr1.csv',index=False)"
   ]
  }
 ],
 "metadata": {
  "kernelspec": {
   "display_name": "Python 3",
   "language": "python",
   "name": "python3"
  },
  "language_info": {
   "codemirror_mode": {
    "name": "ipython",
    "version": 3
   },
   "file_extension": ".py",
   "mimetype": "text/x-python",
   "name": "python",
   "nbconvert_exporter": "python",
   "pygments_lexer": "ipython3",
   "version": "3.8.5"
  }
 },
 "nbformat": 4,
 "nbformat_minor": 4
}
